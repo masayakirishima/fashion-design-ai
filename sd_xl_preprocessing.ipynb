{
 "cells": [
  {
   "cell_type": "code",
   "execution_count": null,
   "metadata": {},
   "outputs": [],
   "source": [
    "import os\n",
    "import pandas as pd\n",
    "\n",
    "from PIL import Image"
   ]
  },
  {
   "cell_type": "code",
   "execution_count": null,
   "metadata": {},
   "outputs": [],
   "source": [
    "img_dir = 'fashion-dataset/images'\n",
    "new_img_dir = 'fashion-dataset/puma/topwear'\n",
    "styles = 'fashion-dataset/styles.csv'"
   ]
  },
  {
   "cell_type": "code",
   "execution_count": null,
   "metadata": {},
   "outputs": [],
   "source": [
    "styles_df = pd.read_csv(styles)\n",
    "styles_df = styles_df.drop(['Unnamed: 10', 'Unnamed: 11'], axis=1)\n",
    "styles_df.head()"
   ]
  },
  {
   "cell_type": "code",
   "execution_count": null,
   "metadata": {},
   "outputs": [],
   "source": [
    "file_num = os.listdir(img_dir)\n",
    "styles_df['fileName'] = styles_df['id'].astype(str)\n",
    "styles_df['fileName'] = styles_df['fileName'] + '.jpg'\n",
    "styles_df = styles_df[styles_df['fileName'].isin(file_num)].sort_values('id')\n",
    "styles_df.head()"
   ]
  },
  {
   "cell_type": "code",
   "execution_count": null,
   "metadata": {},
   "outputs": [],
   "source": [
    "styles_df.info()"
   ]
  },
  {
   "cell_type": "code",
   "execution_count": null,
   "metadata": {},
   "outputs": [],
   "source": [
    "styles_df = styles_df.dropna()\n",
    "styles_df.info()"
   ]
  },
  {
   "cell_type": "code",
   "execution_count": null,
   "metadata": {},
   "outputs": [],
   "source": [
    "shoes_df = styles_df[styles_df['subCategory'] == 'Shoes']\n",
    "shoes_df.head()"
   ]
  },
  {
   "cell_type": "code",
   "execution_count": null,
   "metadata": {},
   "outputs": [],
   "source": [
    "shoes_df.info()"
   ]
  },
  {
   "cell_type": "code",
   "execution_count": null,
   "metadata": {},
   "outputs": [],
   "source": [
    "shirts_df = styles_df[styles_df['subCategory'] == 'Topwear']\n",
    "shirts_df.head()"
   ]
  },
  {
   "cell_type": "code",
   "execution_count": null,
   "metadata": {},
   "outputs": [],
   "source": [
    "shirts_df.info()"
   ]
  },
  {
   "cell_type": "code",
   "execution_count": null,
   "metadata": {},
   "outputs": [],
   "source": [
    "#nike_df = shoes_df[shoes_df['productDisplayName'].str.contains('nike', case=False)]\n",
    "nike_df = shirts_df[shirts_df['productDisplayName'].str.contains('nike', case=False)]\n",
    "nike_df.head()"
   ]
  },
  {
   "cell_type": "code",
   "execution_count": null,
   "metadata": {},
   "outputs": [],
   "source": [
    "nike_df.info()"
   ]
  },
  {
   "cell_type": "code",
   "execution_count": null,
   "metadata": {},
   "outputs": [],
   "source": [
    "#puma_df = shoes_df[shoes_df['productDisplayName'].str.contains('puma', case=False)]\n",
    "puma_df = shirts_df[shirts_df['productDisplayName'].str.contains('puma', case=False)]\n",
    "puma_df.head()"
   ]
  },
  {
   "cell_type": "code",
   "execution_count": null,
   "metadata": {},
   "outputs": [],
   "source": [
    "puma_df.info()"
   ]
  },
  {
   "cell_type": "code",
   "execution_count": null,
   "metadata": {},
   "outputs": [],
   "source": [
    "def info_img(input_path):\n",
    "    with Image.open(input_path) as img:\n",
    "        print('画像の形式:', img.format)\n",
    "        print('画像のサイズ:', img.size)\n",
    "        print('画像のモード:', img.mode)"
   ]
  },
  {
   "cell_type": "code",
   "execution_count": null,
   "metadata": {},
   "outputs": [],
   "source": [
    "num = 1164\n",
    "sample_img = f'{img_dir}/{num}.jpg'"
   ]
  },
  {
   "cell_type": "code",
   "execution_count": null,
   "metadata": {},
   "outputs": [],
   "source": [
    "info_img(sample_img)"
   ]
  },
  {
   "cell_type": "code",
   "execution_count": null,
   "metadata": {},
   "outputs": [],
   "source": [
    "sample_img_open = Image.open(sample_img)\n",
    "display(sample_img_open.resize((360, 480)))"
   ]
  },
  {
   "cell_type": "code",
   "execution_count": null,
   "metadata": {},
   "outputs": [],
   "source": [
    "df = puma_df[['fileName', 'productDisplayName']]\n",
    "df = df.rename(columns={'fileName': 'file_name', 'productDisplayName': 'text'})\n",
    "df.head()"
   ]
  },
  {
   "cell_type": "code",
   "execution_count": null,
   "metadata": {},
   "outputs": [],
   "source": [
    "for name in df['file_name']:\n",
    "    img = f'{img_dir}/{name}'\n",
    "    img = Image.open(img)\n",
    "    img.save(f'{new_img_dir}/{name}')\n",
    "    print(name)"
   ]
  },
  {
   "cell_type": "code",
   "execution_count": null,
   "metadata": {},
   "outputs": [],
   "source": [
    "for index, row in df.iterrows():\n",
    "    caption_text = row['text']\n",
    "    file_name = row['file_name']\n",
    "    file_name = file_name.replace('.jpg', '')\n",
    "    \n",
    "    with open(f'{new_img_dir}/{file_name}.caption', 'w') as file:\n",
    "        file.write(caption_text)\n",
    "\n",
    "    print(file_name)"
   ]
  }
 ],
 "metadata": {
  "kernelspec": {
   "display_name": "virtual",
   "language": "python",
   "name": "python3"
  },
  "language_info": {
   "codemirror_mode": {
    "name": "ipython",
    "version": 3
   },
   "file_extension": ".py",
   "mimetype": "text/x-python",
   "name": "python",
   "nbconvert_exporter": "python",
   "pygments_lexer": "ipython3",
   "version": "3.8.12"
  }
 },
 "nbformat": 4,
 "nbformat_minor": 2
}
