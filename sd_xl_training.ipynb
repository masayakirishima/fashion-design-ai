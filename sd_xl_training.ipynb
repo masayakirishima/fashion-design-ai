{
  "cells": [
    {
      "cell_type": "markdown",
      "metadata": {
        "id": "iVYdZV7qnRHz"
      },
      "source": [
        "Github \\\n",
        "https://github.com/kohya-ss/sd-scripts/tree/main"
      ]
    },
    {
      "cell_type": "code",
      "execution_count": null,
      "metadata": {
        "colab": {
          "base_uri": "https://localhost:8080/"
        },
        "id": "xXCeUcnMfArW",
        "outputId": "c7fb3c07-d600-4451-a015-306ff0164786"
      },
      "outputs": [],
      "source": [
        "from google.colab import drive\n",
        "drive.mount('/content/drive')"
      ]
    },
    {
      "cell_type": "code",
      "execution_count": null,
      "metadata": {
        "colab": {
          "base_uri": "https://localhost:8080/"
        },
        "id": "ixASF_H-fHzT",
        "outputId": "2e4c8c86-63ab-40fd-8c94-24b34655d47f"
      },
      "outputs": [],
      "source": [
        "!sudo apt autoremove\n",
        "!sudo apt-get -y update\n",
        "!sudo apt-get -y install python3.10\n",
        "\n",
        "!sudo cp `which python3.10` /usr/local/bin/python\n",
        "\n",
        "!wget https://bootstrap.pypa.io/get-pip.py\n",
        "!sudo python get-pip.py\n",
        "\n",
        "!python --version\n",
        "!pip --version"
      ]
    },
    {
      "cell_type": "code",
      "execution_count": null,
      "metadata": {
        "colab": {
          "base_uri": "https://localhost:8080/"
        },
        "id": "q6lzj7Lv4u-U",
        "outputId": "9416dae2-3ff9-44e5-a145-5e060567f8c3"
      },
      "outputs": [],
      "source": [
        "%cd '/content'\n",
        "!git clone https://github.com/kohya-ss/sd-scripts.git\n",
        "%cd 'sd-scripts'"
      ]
    },
    {
      "cell_type": "code",
      "execution_count": null,
      "metadata": {
        "colab": {
          "base_uri": "https://localhost:8080/",
          "height": 1000
        },
        "id": "KZqYiVTGxpDZ",
        "outputId": "65005d58-8ce6-49ac-fffc-f3b4aec13393"
      },
      "outputs": [],
      "source": [
        "!pip install torch==2.0.1+cu118 torchvision==0.15.2+cu118 --index-url https://download.pytorch.org/whl/cu118\n",
        "!pip install --upgrade -r requirements.txt\n",
        "!pip install xformers==0.0.20"
      ]
    },
    {
      "cell_type": "code",
      "execution_count": null,
      "metadata": {
        "colab": {
          "base_uri": "https://localhost:8080/"
        },
        "id": "qAhHl9Z23Pfn",
        "outputId": "89c0dbd7-ea82-4beb-9cc7-0c3aec8a3503"
      },
      "outputs": [],
      "source": [
        "!pip install protobuf==3.20.3\n",
        "!pip install bitsandbytes==0.40.1"
      ]
    },
    {
      "cell_type": "code",
      "execution_count": null,
      "metadata": {
        "colab": {
          "base_uri": "https://localhost:8080/"
        },
        "id": "Pshg821TpRXh",
        "outputId": "2f1c35ea-7845-4d46-a76a-bae4115d46d3"
      },
      "outputs": [],
      "source": [
        "!accelerate config default --mixed_precision fp16"
      ]
    },
    {
      "cell_type": "code",
      "execution_count": null,
      "metadata": {
        "colab": {
          "base_uri": "https://localhost:8080/"
        },
        "id": "RsvnejH6fQbc",
        "outputId": "59a2d8e9-00fc-43f6-931c-64a955973297"
      },
      "outputs": [],
      "source": [
        "!nvidia-smi"
      ]
    },
    {
      "cell_type": "code",
      "execution_count": null,
      "metadata": {
        "id": "LrzK0oNlfVJz"
      },
      "outputs": [],
      "source": [
        "img_path = 'fashion-dataset/puma/topwear'\n",
        "model_path = 'sd_xl_base_1.0.safetensors'\n",
        "output_path = 'puma_topwear/lora'"
      ]
    },
    {
      "cell_type": "code",
      "execution_count": null,
      "metadata": {
        "id": "rcgmifv9few3"
      },
      "outputs": [],
      "source": [
        "!python finetune/make_captions.py --batch_size 8 \"$img_path\""
      ]
    },
    {
      "cell_type": "code",
      "execution_count": null,
      "metadata": {
        "id": "7cTSpyhhfgdM"
      },
      "outputs": [],
      "source": [
        "!python finetune/tag_images_by_wd14_tagger.py --batch_size 4 \"$img_path\""
      ]
    },
    {
      "cell_type": "code",
      "execution_count": null,
      "metadata": {
        "colab": {
          "base_uri": "https://localhost:8080/"
        },
        "id": "z5ryfL2CfjUh",
        "outputId": "240a295a-435c-44b7-9aa2-2a7e7a81eaed"
      },
      "outputs": [],
      "source": [
        "!python finetune/merge_captions_to_metadata.py \"$img_path\" meta_cap.json\n",
        "!python finetune/merge_dd_tags_to_metadata.py \"$img_path\" --in_json meta_cap.json meta_cap_dd.json\n",
        "!python finetune/clean_captions_and_tags.py meta_cap_dd.json meta_clean.json"
      ]
    },
    {
      "cell_type": "code",
      "execution_count": null,
      "metadata": {
        "colab": {
          "base_uri": "https://localhost:8080/"
        },
        "id": "BTAi43K_flSC",
        "outputId": "00cab785-ae6a-4e6d-fa95-15a9234859e2"
      },
      "outputs": [],
      "source": [
        "!python finetune/prepare_buckets_latents.py \\\n",
        "  \"$img_path\" \\\n",
        "  meta_clean.json \\\n",
        "  meta_lat.json \\\n",
        "  \"$model_path\" \\\n",
        "  --batch_size 4 \\\n",
        "  --max_resolution 1024,1024 \\\n",
        "  --mixed_precision no"
      ]
    },
    {
      "cell_type": "code",
      "execution_count": null,
      "metadata": {
        "colab": {
          "base_uri": "https://localhost:8080/"
        },
        "id": "3eIbwkipgCHq",
        "outputId": "7d1a49fe-8d85-4a5d-e028-670aee155853"
      },
      "outputs": [],
      "source": [
        "!cat meta_lat.json"
      ]
    },
    {
      "cell_type": "code",
      "execution_count": null,
      "metadata": {
        "colab": {
          "base_uri": "https://localhost:8080/"
        },
        "id": "Yr56MH_AfpBG",
        "outputId": "a82b3b73-b3b6-4e61-c5e4-76e1c3d095a2"
      },
      "outputs": [],
      "source": [
        "!accelerate launch  \\\n",
        "  --num_cpu_threads_per_process 1 sdxl_train_network.py \\\n",
        "  --pretrained_model_name_or_path=\"$model_path\" \\\n",
        "  --in_json meta_lat.json \\\n",
        "  --train_data_dir=\"$img_path\" \\\n",
        "  --output_dir=\"$output_path\" \\\n",
        "  --shuffle_caption \\\n",
        "  --train_batch_size=1 \\\n",
        "  --learning_rate=1e-4 \\\n",
        "  --max_train_epochs=10 \\\n",
        "  --use_8bit_adam \\\n",
        "  --xformers \\\n",
        "  --gradient_checkpointing \\\n",
        "  --mixed_precision=fp16 \\\n",
        "  --save_every_n_epochs=5 \\\n",
        "  --save_precision=fp16 \\\n",
        "  --save_model_as=safetensors  \\\n",
        "  --network_module=networks.lora"
      ]
    },
    {
      "cell_type": "code",
      "execution_count": null,
      "metadata": {
        "id": "U6HWM2oDZ8yK"
      },
      "outputs": [],
      "source": [
        "from google.colab import runtime\n",
        "runtime.unassign()"
      ]
    }
  ],
  "metadata": {
    "accelerator": "GPU",
    "colab": {
      "gpuType": "A100",
      "provenance": []
    },
    "kernelspec": {
      "display_name": "Python 3",
      "name": "python3"
    },
    "language_info": {
      "name": "python"
    }
  },
  "nbformat": 4,
  "nbformat_minor": 0
}
